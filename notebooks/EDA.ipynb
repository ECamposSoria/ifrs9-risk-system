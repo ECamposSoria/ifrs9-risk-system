{
 "cells": [
  {
   "cell_type": "markdown",
   "metadata": {},
   "source": [
    "# IFRS9 Risk System - Exploratory Data Analysis\n",
    "\n",
    "This notebook provides exploratory data analysis of the synthetic loan portfolio data."
   ]
  },
  {
   "cell_type": "code",
   "execution_count": null,
   "metadata": {},
   "outputs": [],
   "source": [
    "import pandas as pd\n",
    "import numpy as np\n",
    "import matplotlib.pyplot as plt\n",
    "import seaborn as sns\n",
    "import plotly.express as px\n",
    "import plotly.graph_objects as go\n",
    "from plotly.subplots import make_subplots\n",
    "\n",
    "# Configure plotting\n",
    "plt.style.use('seaborn-v0_8')\n",
    "sns.set_palette(\"husl\")\n",
    "%matplotlib inline"
   ]
  },
  {
   "cell_type": "markdown",
   "metadata": {},
   "source": [
    "## 1. Data Loading and Overview"
   ]
  },
  {
   "cell_type": "code",
   "execution_count": null,
   "metadata": {},
   "outputs": [],
   "source": [
    "# Generate synthetic data if not exists\n",
    "import sys\n",
    "sys.path.append('/home/jovyan/src')\n",
    "\n",
    "from generate_data import DataGenerator\n",
    "\n",
    "# Generate sample data\n",
    "generator = DataGenerator(seed=42)\n",
    "loans_df = generator.generate_loan_portfolio(n_loans=1000)\n",
    "payments_df = generator.generate_payment_history(loans_df, n_months=12)\n",
    "macro_df = generator.generate_macroeconomic_data()\n",
    "\n",
    "print(f\"Loans: {len(loans_df):,} records\")\n",
    "print(f\"Payments: {len(payments_df):,} records\")\n",
    "print(f\"Macro data: {len(macro_df):,} records\")"
   ]
  },
  {
   "cell_type": "code",
   "execution_count": null,
   "metadata": {},
   "outputs": [],
   "source": [
    "# Basic info about the loan portfolio\n",
    "print(\"Loan Portfolio Overview:\")\n",
    "print(f\"Total loans: {len(loans_df):,}\")\n",
    "print(f\"Total exposure: ${loans_df['current_balance'].sum():,.2f}\")\n",
    "print(f\"Total ECL: ${loans_df['ecl_amount'].sum():,.2f}\")\n",
    "print(f\"Coverage ratio: {loans_df['ecl_amount'].sum() / loans_df['current_balance'].sum():.2%}\")\n",
    "\n",
    "loans_df.head()"
   ]
  },
  {
   "cell_type": "markdown",
   "metadata": {},
   "source": [
    "## 2. IFRS9 Stage Distribution"
   ]
  },
  {
   "cell_type": "code",
   "execution_count": null,
   "metadata": {},
   "outputs": [],
   "source": [
    "# Stage distribution\n",
    "stage_dist = loans_df['provision_stage'].value_counts()\n",
    "print(\"Stage Distribution:\")\n",
    "for stage, count in stage_dist.items():\n",
    "    pct = count / len(loans_df) * 100\n",
    "    print(f\"{stage}: {count:,} ({pct:.1f}%)\")\n",
    "\n",
    "# Visualization\n",
    "fig, (ax1, ax2) = plt.subplots(1, 2, figsize=(15, 6))\n",
    "\n",
    "# Count distribution\n",
    "stage_dist.plot(kind='bar', ax=ax1, color=['green', 'orange', 'red'])\n",
    "ax1.set_title('Loan Count by IFRS9 Stage')\n",
    "ax1.set_ylabel('Number of Loans')\n",
    "ax1.tick_params(axis='x', rotation=0)\n",
    "\n",
    "# Exposure distribution\n",
    "stage_exposure = loans_df.groupby('provision_stage')['current_balance'].sum()\n",
    "stage_exposure.plot(kind='bar', ax=ax2, color=['green', 'orange', 'red'])\n",
    "ax2.set_title('Exposure by IFRS9 Stage')\n",
    "ax2.set_ylabel('Total Exposure ($)')\n",
    "ax2.tick_params(axis='x', rotation=0)\n",
    "\n",
    "plt.tight_layout()\n",
    "plt.show()"
   ]
  },
  {
   "cell_type": "markdown",
   "metadata": {},
   "source": [
    "## 3. Credit Risk Analysis"
   ]
  },
  {
   "cell_type": "code",
   "execution_count": null,
   "metadata": {},
   "outputs": [],
   "source": [
    "# Credit score distribution by stage\n",
    "plt.figure(figsize=(12, 8))\n",
    "\n",
    "for i, stage in enumerate(['STAGE_1', 'STAGE_2', 'STAGE_3'], 1):\n",
    "    plt.subplot(2, 2, i)\n",
    "    data = loans_df[loans_df['provision_stage'] == stage]['credit_score']\n",
    "    plt.hist(data, bins=30, alpha=0.7, edgecolor='black')\n",
    "    plt.title(f'{stage} Credit Score Distribution')\n",
    "    plt.xlabel('Credit Score')\n",
    "    plt.ylabel('Count')\n",
    "\n",
    "# Combined distribution\n",
    "plt.subplot(2, 2, 4)\n",
    "for stage in ['STAGE_1', 'STAGE_2', 'STAGE_3']:\n",
    "    data = loans_df[loans_df['provision_stage'] == stage]['credit_score']\n",
    "    plt.hist(data, bins=30, alpha=0.6, label=stage, edgecolor='black')\n",
    "plt.title('Credit Score Distribution by Stage')\n",
    "plt.xlabel('Credit Score')\n",
    "plt.ylabel('Count')\n",
    "plt.legend()\n",
    "\n",
    "plt.tight_layout()\n",
    "plt.show()"
   ]
  },
  {
   "cell_type": "markdown",
   "metadata": {},
   "source": [
    "## 4. Expected Credit Loss Analysis"
   ]
  },
  {
   "cell_type": "code",
   "execution_count": null,
   "metadata": {},
   "outputs": [],
   "source": [
    "# ECL analysis by loan type and stage\n",
    "ecl_analysis = loans_df.groupby(['loan_type', 'provision_stage']).agg({\n",
    "    'ecl_amount': ['sum', 'mean', 'count'],\n",
    "    'current_balance': 'sum',\n",
    "    'pd_rate': 'mean',\n",
    "    'lgd_rate': 'mean'\n",
    "}).round(4)\n",
    "\n",
    "print(\"ECL Analysis by Loan Type and Stage:\")\n",
    "print(ecl_analysis)\n",
    "\n",
    "# ECL by loan type visualization\n",
    "fig, axes = plt.subplots(2, 2, figsize=(15, 10))\n",
    "\n",
    "# Total ECL by loan type\n",
    "ecl_by_type = loans_df.groupby('loan_type')['ecl_amount'].sum().sort_values(ascending=False)\n",
    "ecl_by_type.plot(kind='bar', ax=axes[0,0], color='skyblue')\n",
    "axes[0,0].set_title('Total ECL by Loan Type')\n",
    "axes[0,0].set_ylabel('ECL Amount ($)')\n",
    "axes[0,0].tick_params(axis='x', rotation=45)\n",
    "\n",
    "# Average PD by loan type and stage\n",
    "pd_pivot = loans_df.pivot_table(values='pd_rate', index='loan_type', columns='provision_stage', aggfunc='mean')\n",
    "pd_pivot.plot(kind='bar', ax=axes[0,1], color=['green', 'orange', 'red'])\n",
    "axes[0,1].set_title('Average PD by Loan Type and Stage')\n",
    "axes[0,1].set_ylabel('Probability of Default')\n",
    "axes[0,1].tick_params(axis='x', rotation=45)\n",
    "axes[0,1].legend(title='Stage')\n",
    "\n",
    "# Coverage ratio by loan type\n",
    "coverage_by_type = loans_df.groupby('loan_type').apply(\n",
    "    lambda x: x['ecl_amount'].sum() / x['current_balance'].sum()\n",
    ").sort_values(ascending=False)\n",
    "coverage_by_type.plot(kind='bar', ax=axes[1,0], color='lightcoral')\n",
    "axes[1,0].set_title('Coverage Ratio by Loan Type')\n",
    "axes[1,0].set_ylabel('ECL / Exposure')\n",
    "axes[1,0].tick_params(axis='x', rotation=45)\n",
    "\n",
    "# ECL distribution\n",
    "axes[1,1].hist(loans_df['ecl_amount'], bins=50, edgecolor='black', alpha=0.7)\n",
    "axes[1,1].set_title('ECL Amount Distribution')\n",
    "axes[1,1].set_xlabel('ECL Amount ($)')\n",
    "axes[1,1].set_ylabel('Count')\n",
    "axes[1,1].set_yscale('log')\n",
    "\n",
    "plt.tight_layout()\n",
    "plt.show()"
   ]
  },
  {
   "cell_type": "markdown",
   "metadata": {},
   "source": [
    "## 5. Interactive Plotly Visualizations"
   ]
  },
  {
   "cell_type": "code",
   "execution_count": null,
   "metadata": {},
   "outputs": [],
   "source": [
    "# Interactive scatter plot: Credit Score vs ECL colored by Stage\n",
    "fig = px.scatter(loans_df, \n",
    "                x='credit_score', \n",
    "                y='ecl_amount',\n",
    "                color='provision_stage',\n",
    "                size='current_balance',\n",
    "                hover_data=['loan_type', 'pd_rate', 'lgd_rate'],\n",
    "                title='Credit Score vs ECL by IFRS9 Stage',\n",
    "                color_discrete_map={'STAGE_1': 'green', 'STAGE_2': 'orange', 'STAGE_3': 'red'})\n",
    "\n",
    "fig.update_layout(height=600)\n",
    "fig.show()"
   ]
  },
  {
   "cell_type": "code",
   "execution_count": null,
   "metadata": {},
   "outputs": [],
   "source": [
    "# Portfolio composition sunburst chart\n",
    "fig = px.sunburst(loans_df, \n",
    "                 path=['loan_type', 'provision_stage'], \n",
    "                 values='current_balance',\n",
    "                 title='Portfolio Composition: Loan Type → IFRS9 Stage')\n",
    "\n",
    "fig.update_layout(height=600)\n",
    "fig.show()"
   ]
  },
  {
   "cell_type": "markdown",
   "metadata": {},
   "source": [
    "## 6. Payment Analysis"
   ]
  },
  {
   "cell_type": "code",
   "execution_count": null,
   "metadata": {},
   "outputs": [],
   "source": [
    "# Payment behavior analysis\n",
    "payment_stats = payments_df.groupby('payment_status').agg({\n",
    "    'loan_id': 'count',\n",
    "    'actual_payment': 'sum',\n",
    "    'scheduled_payment': 'sum'\n",
    "})\n",
    "\n",
    "print(\"Payment Statistics:\")\n",
    "print(payment_stats)\n",
    "\n",
    "# Payment trends over time\n",
    "payments_df['payment_date'] = pd.to_datetime(payments_df['payment_date'])\n",
    "monthly_payments = payments_df.groupby([payments_df['payment_date'].dt.to_period('M'), 'payment_status']).size().unstack(fill_value=0)\n",
    "\n",
    "monthly_payments.plot(kind='area', stacked=True, figsize=(12, 6), \n",
    "                     color=['green', 'red'], alpha=0.7)\n",
    "plt.title('Payment Status Trends Over Time')\n",
    "plt.xlabel('Month')\n",
    "plt.ylabel('Number of Payments')\n",
    "plt.legend(title='Payment Status')\n",
    "plt.show()"
   ]
  },
  {
   "cell_type": "markdown",
   "metadata": {},
   "source": [
    "## 7. Summary and Key Insights"
   ]
  },
  {
   "cell_type": "code",
   "execution_count": null,
   "metadata": {},
   "outputs": [],
   "source": [
    "# Generate summary statistics\n",
    "print(\"=\" * 60)\n",
    "print(\"IFRS9 PORTFOLIO ANALYSIS SUMMARY\")\n",
    "print(\"=\" * 60)\n",
    "\n",
    "# Portfolio metrics\n",
    "total_exposure = loans_df['current_balance'].sum()\n",
    "total_ecl = loans_df['ecl_amount'].sum()\n",
    "coverage_ratio = total_ecl / total_exposure\n",
    "\n",
    "print(f\"\\nPortfolio Overview:\")\n",
    "print(f\"  Total Loans: {len(loans_df):,}\")\n",
    "print(f\"  Total Exposure: ${total_exposure:,.2f}\")\n",
    "print(f\"  Total ECL: ${total_ecl:,.2f}\")\n",
    "print(f\"  Coverage Ratio: {coverage_ratio:.2%}\")\n",
    "\n",
    "# Stage distribution\n",
    "print(f\"\\nStage Distribution:\")\n",
    "for stage in ['STAGE_1', 'STAGE_2', 'STAGE_3']:\n",
    "    count = len(loans_df[loans_df['provision_stage'] == stage])\n",
    "    exposure = loans_df[loans_df['provision_stage'] == stage]['current_balance'].sum()\n",
    "    ecl = loans_df[loans_df['provision_stage'] == stage]['ecl_amount'].sum()\n",
    "    print(f\"  {stage}: {count:,} loans (${exposure:,.2f} exposure, ${ecl:,.2f} ECL)\")\n",
    "\n",
    "# Risk metrics by loan type\n",
    "print(f\"\\nRisk Metrics by Loan Type:\")\n",
    "for loan_type in loans_df['loan_type'].unique():\n",
    "    subset = loans_df[loans_df['loan_type'] == loan_type]\n",
    "    avg_pd = subset['pd_rate'].mean()\n",
    "    avg_lgd = subset['lgd_rate'].mean()\n",
    "    type_coverage = subset['ecl_amount'].sum() / subset['current_balance'].sum()\n",
    "    print(f\"  {loan_type}: {avg_pd:.2%} PD, {avg_lgd:.2%} LGD, {type_coverage:.2%} Coverage\")\n",
    "\n",
    "print(\"\\n\" + \"=\" * 60)"
   ]
  },
  {
   "cell_type": "code",
   "execution_count": null,
   "metadata": {},
   "outputs": [],
   "source": []
  }
 ],
 "metadata": {
  "kernelspec": {
   "display_name": "Python 3",
   "language": "python",
   "name": "python3"
  },
  "language_info": {
   "codemirror_mode": {
    "name": "ipython",
    "version": 3
   },
   "file_extension": ".py",
   "mimetype": "text/x-python",
   "name": "python",
   "nbconvert_exporter": "python",
   "pygments_lexer": "ipython3",
   "version": "3.10.12"
  }
 },
 "nbformat": 4,
 "nbformat_minor": 4
}